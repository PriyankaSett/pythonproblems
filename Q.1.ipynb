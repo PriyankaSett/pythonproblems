{
 "cells": [
  {
   "cell_type": "markdown",
   "id": "e3f682b5",
   "metadata": {},
   "source": [
    "**Question 1:** \n",
    "\n",
    "Write a program that takes a string as input, and counts the frequency of each word in the string, there might\n",
    "be repeated characters in the string. Your task is to find the highest frequency and returns the length of the\n",
    "highest-frequency word.\n",
    "\n",
    "\n",
    "Note - You have to write at least 2 additional test cases in which your program will run successfully and provide an explanation for the same.\n",
    "\n",
    "Example input - string = “write write write all the number from from from 1 to 100”\n",
    "Example output - 5\n",
    "Explanation - From the given string we can note that the most frequent words are “write” and “from” and\n",
    "the maximum value of both the values is “write” and its corresponding length is 5"
   ]
  },
  {
   "cell_type": "code",
   "execution_count": 1,
   "id": "f2867e5c",
   "metadata": {},
   "outputs": [
    {
     "name": "stdout",
     "output_type": "stream",
     "text": [
      "Enter the string : Transitional words and phrases connect sentences and paragraphs to each other. Paragraph transitions suggest a particular relationship between one idea and the next. Within a paragraph, transitions provide coherence: a sense that the paragraph contains one main argument or idea. Between paragraphs, paragraph transitions help with the flow of writing from beginning to end, as well as the sense of the coherence of the whole essay. Transitional words and phrases often occur at the beginning of a sentence and, for more formal writing, transitional expressions are set off with a comma. Some transition words (for example, \"too\" or \"as well\") more often occur at the end or even in the middle of a sentence, however. '\n",
      "3\n"
     ]
    }
   ],
   "source": [
    "def get_word_frequency(instring): \n",
    "    \"This function takes an input string and return the length of the highest frequency word\"\n",
    "    inlist = instring.split()\n",
    "    count_dict = dict()\n",
    "\n",
    "    for words in inlist: \n",
    "        len_words = len(words)\n",
    "        count_dict[words] = inlist.count(words)\n",
    "        #print(words, len_words, mylist.count(words))\n",
    "\n",
    "    #print(count_dict)    \n",
    "    #sort_count_dict = dict(sorted(count_dict.items(), key = lambda x: (x[1], x[0]), reverse= True))\n",
    "    sort_count_dict = dict(sorted(count_dict.items(), key = lambda x: (x[1], len(x[0])), reverse= True))\n",
    "    #print(sort_count_dict)\n",
    "    \n",
    "    most_freq_word = list(sort_count_dict.keys())[0] # most freq word with max length \n",
    "    len_w = len(most_freq_word)\n",
    "    return len_w\n",
    "    #print(list(sort_count_dict.keys())[0])\n",
    "    #print(len(list(sort_count_dict.keys())[0]))\n",
    "\n",
    "\n",
    "    \n",
    "#mystr = \"write write write all the number from from from 1 to 100\"\n",
    "\n",
    "\n",
    "#mystr = \"from from from 1 to 100 write write write all the number\"\n",
    "\n",
    "#mystr = \"However, there is little doubt that blooms are becoming more common in some locations, and they can have severe consequences for marine – and human – life. So, if jellyfish can pose such a threat to our oceans and global food security, then why not just eat them?\"\n",
    "\n",
    "#mystr = 'Transitional words and phrases connect sentences and paragraphs to each other. Paragraph transitions suggest a particular relationship between one idea and the next. Within a paragraph, transitions provide coherence: a sense that the paragraph contains one main argument or idea. Between paragraphs, paragraph transitions help with the flow of writing from beginning to end, as well as the sense of the coherence of the whole essay. Transitional words and phrases often occur at the beginning of a sentence and, for more formal writing, transitional expressions are set off with a comma. Some transition words (for example, \"too\" or \"as well\") more often occur at the end or even in the middle of a sentence, however. '\n",
    "\n",
    "mystr = input('Enter the string : ')\n",
    "\n",
    "print(get_word_frequency(mystr))\n"
   ]
  },
  {
   "cell_type": "code",
   "execution_count": 2,
   "id": "f647c64a",
   "metadata": {},
   "outputs": [
    {
     "name": "stdout",
     "output_type": "stream",
     "text": [
      "Enter the string : However, there is little doubt that blooms are becoming more common in some locations, and they can have severe consequences for marine – and human – life. So, if jellyfish can pose such a threat to our oceans and global food security, then why not just eat them?\"\n",
      "3\n"
     ]
    }
   ],
   "source": [
    "mystr = input('Enter the string : ')\n",
    "\n",
    "print(get_word_frequency(mystr))"
   ]
  },
  {
   "cell_type": "code",
   "execution_count": 3,
   "id": "43462052",
   "metadata": {},
   "outputs": [
    {
     "name": "stdout",
     "output_type": "stream",
     "text": [
      "Enter the string : from from from 1 to 100 write write write all the number\n",
      "5\n"
     ]
    }
   ],
   "source": [
    "mystr = input('Enter the string : ')\n",
    "\n",
    "print(get_word_frequency(mystr))"
   ]
  },
  {
   "cell_type": "code",
   "execution_count": null,
   "id": "beec8d93",
   "metadata": {},
   "outputs": [],
   "source": []
  }
 ],
 "metadata": {
  "kernelspec": {
   "display_name": "Python 3",
   "language": "python",
   "name": "python3"
  },
  "language_info": {
   "codemirror_mode": {
    "name": "ipython",
    "version": 3
   },
   "file_extension": ".py",
   "mimetype": "text/x-python",
   "name": "python",
   "nbconvert_exporter": "python",
   "pygments_lexer": "ipython3",
   "version": "3.8.8"
  }
 },
 "nbformat": 4,
 "nbformat_minor": 5
}
