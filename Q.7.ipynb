{
 "cells": [
  {
   "cell_type": "markdown",
   "id": "d6638e01",
   "metadata": {},
   "source": [
    "\n",
    "\n",
    "**Question 7.** \n",
    "\n",
    "Using the data from Question 4, write code to analyze the data and answer the following questions. \n",
    "\n",
    "Note -\n",
    "1. Draw plots to demonstrate the analysis for the following questions for better visualizations. \n",
    "2. Write code comments wherever required for code understanding. \n",
    "\n",
    "Insights to be drawn - \n",
    "- Get all the Earth meteorites that fell before the year 2000\n",
    "- Get all the earth meteorites co-ordinates who fell before the year 1970\n",
    "- Assuming that the mass of the earth meteorites was in kg, get all those whose mass was more than 10000kg"
   ]
  },
  {
   "cell_type": "code",
   "execution_count": 1,
   "id": "0280a9cd",
   "metadata": {},
   "outputs": [],
   "source": [
    "import numpy as np\n",
    "import pandas as pd \n",
    "import seaborn as sns\n",
    "import matplotlib.pyplot as plt \n",
    "%matplotlib inline \n",
    "pd.set_option('display.max_columns', None)"
   ]
  },
  {
   "cell_type": "code",
   "execution_count": 2,
   "id": "2e3c956c",
   "metadata": {},
   "outputs": [],
   "source": [
    "df = pd.read_csv('Meteorite.csv')"
   ]
  },
  {
   "cell_type": "code",
   "execution_count": 3,
   "id": "2157fea3",
   "metadata": {},
   "outputs": [
    {
     "data": {
      "text/html": [
       "<div>\n",
       "<style scoped>\n",
       "    .dataframe tbody tr th:only-of-type {\n",
       "        vertical-align: middle;\n",
       "    }\n",
       "\n",
       "    .dataframe tbody tr th {\n",
       "        vertical-align: top;\n",
       "    }\n",
       "\n",
       "    .dataframe thead th {\n",
       "        text-align: right;\n",
       "    }\n",
       "</style>\n",
       "<table border=\"1\" class=\"dataframe\">\n",
       "  <thead>\n",
       "    <tr style=\"text-align: right;\">\n",
       "      <th></th>\n",
       "      <th>Unnamed: 0</th>\n",
       "      <th>name</th>\n",
       "      <th>id</th>\n",
       "      <th>nametype</th>\n",
       "      <th>recclass</th>\n",
       "      <th>mass</th>\n",
       "      <th>year</th>\n",
       "      <th>reclat</th>\n",
       "      <th>reclong</th>\n",
       "      <th>Geo-Coordinates</th>\n",
       "    </tr>\n",
       "  </thead>\n",
       "  <tbody>\n",
       "    <tr>\n",
       "      <th>0</th>\n",
       "      <td>0</td>\n",
       "      <td>Aachen</td>\n",
       "      <td>1</td>\n",
       "      <td>Valid</td>\n",
       "      <td>L5</td>\n",
       "      <td>21.0</td>\n",
       "      <td>1880-01-01</td>\n",
       "      <td>50.77500</td>\n",
       "      <td>6.08333</td>\n",
       "      <td>[6, 6]</td>\n",
       "    </tr>\n",
       "    <tr>\n",
       "      <th>1</th>\n",
       "      <td>1</td>\n",
       "      <td>Aarhus</td>\n",
       "      <td>2</td>\n",
       "      <td>Valid</td>\n",
       "      <td>H6</td>\n",
       "      <td>720.0</td>\n",
       "      <td>1951-01-01</td>\n",
       "      <td>56.18333</td>\n",
       "      <td>10.23333</td>\n",
       "      <td>[10, 10]</td>\n",
       "    </tr>\n",
       "    <tr>\n",
       "      <th>2</th>\n",
       "      <td>2</td>\n",
       "      <td>Abee</td>\n",
       "      <td>6</td>\n",
       "      <td>Valid</td>\n",
       "      <td>EH4</td>\n",
       "      <td>107000.0</td>\n",
       "      <td>1952-01-01</td>\n",
       "      <td>54.21667</td>\n",
       "      <td>-113.00000</td>\n",
       "      <td>[-113, -113]</td>\n",
       "    </tr>\n",
       "    <tr>\n",
       "      <th>3</th>\n",
       "      <td>3</td>\n",
       "      <td>Acapulco</td>\n",
       "      <td>10</td>\n",
       "      <td>Valid</td>\n",
       "      <td>Acapulcoite</td>\n",
       "      <td>1914.0</td>\n",
       "      <td>1976-01-01</td>\n",
       "      <td>16.88333</td>\n",
       "      <td>-99.90000</td>\n",
       "      <td>[-99, -99]</td>\n",
       "    </tr>\n",
       "    <tr>\n",
       "      <th>4</th>\n",
       "      <td>4</td>\n",
       "      <td>Achiras</td>\n",
       "      <td>370</td>\n",
       "      <td>Valid</td>\n",
       "      <td>L6</td>\n",
       "      <td>780.0</td>\n",
       "      <td>1902-01-01</td>\n",
       "      <td>-33.16667</td>\n",
       "      <td>-64.95000</td>\n",
       "      <td>[-64, -64]</td>\n",
       "    </tr>\n",
       "  </tbody>\n",
       "</table>\n",
       "</div>"
      ],
      "text/plain": [
       "   Unnamed: 0      name   id nametype     recclass      mass        year  \\\n",
       "0           0    Aachen    1    Valid           L5      21.0  1880-01-01   \n",
       "1           1    Aarhus    2    Valid           H6     720.0  1951-01-01   \n",
       "2           2      Abee    6    Valid          EH4  107000.0  1952-01-01   \n",
       "3           3  Acapulco   10    Valid  Acapulcoite    1914.0  1976-01-01   \n",
       "4           4   Achiras  370    Valid           L6     780.0  1902-01-01   \n",
       "\n",
       "     reclat    reclong Geo-Coordinates  \n",
       "0  50.77500    6.08333          [6, 6]  \n",
       "1  56.18333   10.23333        [10, 10]  \n",
       "2  54.21667 -113.00000    [-113, -113]  \n",
       "3  16.88333  -99.90000      [-99, -99]  \n",
       "4 -33.16667  -64.95000      [-64, -64]  "
      ]
     },
     "execution_count": 3,
     "metadata": {},
     "output_type": "execute_result"
    }
   ],
   "source": [
    "df.head()"
   ]
  },
  {
   "cell_type": "code",
   "execution_count": 4,
   "id": "43b4b50e",
   "metadata": {},
   "outputs": [
    {
     "data": {
      "text/plain": [
       "(1000, 10)"
      ]
     },
     "execution_count": 4,
     "metadata": {},
     "output_type": "execute_result"
    }
   ],
   "source": [
    "df.shape"
   ]
  },
  {
   "cell_type": "code",
   "execution_count": 5,
   "id": "0d271170",
   "metadata": {},
   "outputs": [
    {
     "data": {
      "text/plain": [
       "Index(['Unnamed: 0', 'name', 'id', 'nametype', 'recclass', 'mass', 'year',\n",
       "       'reclat', 'reclong', 'Geo-Coordinates'],\n",
       "      dtype='object')"
      ]
     },
     "execution_count": 5,
     "metadata": {},
     "output_type": "execute_result"
    }
   ],
   "source": [
    "df.columns"
   ]
  },
  {
   "cell_type": "code",
   "execution_count": 6,
   "id": "c9dcb979",
   "metadata": {},
   "outputs": [],
   "source": [
    "df.drop(labels = 'Unnamed: 0', axis = 1,  inplace = True)"
   ]
  },
  {
   "cell_type": "code",
   "execution_count": 7,
   "id": "d5ee3305",
   "metadata": {},
   "outputs": [
    {
     "name": "stdout",
     "output_type": "stream",
     "text": [
      "<class 'pandas.core.frame.DataFrame'>\n",
      "RangeIndex: 1000 entries, 0 to 999\n",
      "Data columns (total 9 columns):\n",
      " #   Column           Non-Null Count  Dtype  \n",
      "---  ------           --------------  -----  \n",
      " 0   name             1000 non-null   object \n",
      " 1   id               1000 non-null   int64  \n",
      " 2   nametype         1000 non-null   object \n",
      " 3   recclass         1000 non-null   object \n",
      " 4   mass             972 non-null    float64\n",
      " 5   year             982 non-null    object \n",
      " 6   reclat           988 non-null    float64\n",
      " 7   reclong          988 non-null    float64\n",
      " 8   Geo-Coordinates  1000 non-null   object \n",
      "dtypes: float64(3), int64(1), object(5)\n",
      "memory usage: 70.4+ KB\n"
     ]
    }
   ],
   "source": [
    "df.info()"
   ]
  },
  {
   "cell_type": "code",
   "execution_count": 8,
   "id": "bcdf7127",
   "metadata": {},
   "outputs": [
    {
     "data": {
      "text/html": [
       "<div>\n",
       "<style scoped>\n",
       "    .dataframe tbody tr th:only-of-type {\n",
       "        vertical-align: middle;\n",
       "    }\n",
       "\n",
       "    .dataframe tbody tr th {\n",
       "        vertical-align: top;\n",
       "    }\n",
       "\n",
       "    .dataframe thead th {\n",
       "        text-align: right;\n",
       "    }\n",
       "</style>\n",
       "<table border=\"1\" class=\"dataframe\">\n",
       "  <thead>\n",
       "    <tr style=\"text-align: right;\">\n",
       "      <th></th>\n",
       "      <th>id</th>\n",
       "      <th>mass</th>\n",
       "      <th>reclat</th>\n",
       "      <th>reclong</th>\n",
       "    </tr>\n",
       "  </thead>\n",
       "  <tbody>\n",
       "    <tr>\n",
       "      <th>count</th>\n",
       "      <td>1000.00000</td>\n",
       "      <td>9.720000e+02</td>\n",
       "      <td>988.000000</td>\n",
       "      <td>988.000000</td>\n",
       "    </tr>\n",
       "    <tr>\n",
       "      <th>mean</th>\n",
       "      <td>15398.72800</td>\n",
       "      <td>5.019020e+04</td>\n",
       "      <td>29.691592</td>\n",
       "      <td>19.151208</td>\n",
       "    </tr>\n",
       "    <tr>\n",
       "      <th>std</th>\n",
       "      <td>10368.70402</td>\n",
       "      <td>7.539857e+05</td>\n",
       "      <td>23.204399</td>\n",
       "      <td>68.644015</td>\n",
       "    </tr>\n",
       "    <tr>\n",
       "      <th>min</th>\n",
       "      <td>1.00000</td>\n",
       "      <td>1.500000e-01</td>\n",
       "      <td>-44.116670</td>\n",
       "      <td>-157.866670</td>\n",
       "    </tr>\n",
       "    <tr>\n",
       "      <th>25%</th>\n",
       "      <td>7770.50000</td>\n",
       "      <td>6.795000e+02</td>\n",
       "      <td>21.300000</td>\n",
       "      <td>-5.195832</td>\n",
       "    </tr>\n",
       "    <tr>\n",
       "      <th>50%</th>\n",
       "      <td>12757.50000</td>\n",
       "      <td>2.870000e+03</td>\n",
       "      <td>35.916665</td>\n",
       "      <td>17.325000</td>\n",
       "    </tr>\n",
       "    <tr>\n",
       "      <th>75%</th>\n",
       "      <td>18831.25000</td>\n",
       "      <td>1.005000e+04</td>\n",
       "      <td>45.817835</td>\n",
       "      <td>76.004167</td>\n",
       "    </tr>\n",
       "    <tr>\n",
       "      <th>max</th>\n",
       "      <td>57168.00000</td>\n",
       "      <td>2.300000e+07</td>\n",
       "      <td>66.348330</td>\n",
       "      <td>174.400000</td>\n",
       "    </tr>\n",
       "  </tbody>\n",
       "</table>\n",
       "</div>"
      ],
      "text/plain": [
       "                id          mass      reclat     reclong\n",
       "count   1000.00000  9.720000e+02  988.000000  988.000000\n",
       "mean   15398.72800  5.019020e+04   29.691592   19.151208\n",
       "std    10368.70402  7.539857e+05   23.204399   68.644015\n",
       "min        1.00000  1.500000e-01  -44.116670 -157.866670\n",
       "25%     7770.50000  6.795000e+02   21.300000   -5.195832\n",
       "50%    12757.50000  2.870000e+03   35.916665   17.325000\n",
       "75%    18831.25000  1.005000e+04   45.817835   76.004167\n",
       "max    57168.00000  2.300000e+07   66.348330  174.400000"
      ]
     },
     "execution_count": 8,
     "metadata": {},
     "output_type": "execute_result"
    }
   ],
   "source": [
    "df.describe()"
   ]
  },
  {
   "cell_type": "code",
   "execution_count": 9,
   "id": "a17740d4",
   "metadata": {},
   "outputs": [
    {
     "data": {
      "text/plain": [
       "name                0\n",
       "id                  0\n",
       "nametype            0\n",
       "recclass            0\n",
       "mass               28\n",
       "year               18\n",
       "reclat             12\n",
       "reclong            12\n",
       "Geo-Coordinates     0\n",
       "dtype: int64"
      ]
     },
     "execution_count": 9,
     "metadata": {},
     "output_type": "execute_result"
    }
   ],
   "source": [
    "df.isnull().sum()"
   ]
  },
  {
   "cell_type": "code",
   "execution_count": null,
   "id": "4f70e991",
   "metadata": {},
   "outputs": [],
   "source": []
  },
  {
   "cell_type": "code",
   "execution_count": 10,
   "id": "abf8c0ad",
   "metadata": {},
   "outputs": [],
   "source": [
    "df1 = df.copy()"
   ]
  },
  {
   "cell_type": "code",
   "execution_count": null,
   "id": "d98d61f0",
   "metadata": {},
   "outputs": [],
   "source": []
  },
  {
   "cell_type": "markdown",
   "id": "095a3692",
   "metadata": {},
   "source": [
    "\n",
    "### - Get all the Earth meteorites that fell before the year 2000\n",
    "    "
   ]
  },
  {
   "cell_type": "code",
   "execution_count": 11,
   "id": "77f98b4f",
   "metadata": {},
   "outputs": [
    {
     "data": {
      "text/plain": [
       "'1880'"
      ]
     },
     "execution_count": 11,
     "metadata": {},
     "output_type": "execute_result"
    }
   ],
   "source": [
    "df1['year'][0].split('-')[0]"
   ]
  },
  {
   "cell_type": "code",
   "execution_count": 12,
   "id": "1c430233",
   "metadata": {},
   "outputs": [],
   "source": [
    "df_met_before2000 = df1[df1['year'] < '2000-01-01']"
   ]
  },
  {
   "cell_type": "code",
   "execution_count": 13,
   "id": "02079d61",
   "metadata": {},
   "outputs": [
    {
     "data": {
      "text/html": [
       "<div>\n",
       "<style scoped>\n",
       "    .dataframe tbody tr th:only-of-type {\n",
       "        vertical-align: middle;\n",
       "    }\n",
       "\n",
       "    .dataframe tbody tr th {\n",
       "        vertical-align: top;\n",
       "    }\n",
       "\n",
       "    .dataframe thead th {\n",
       "        text-align: right;\n",
       "    }\n",
       "</style>\n",
       "<table border=\"1\" class=\"dataframe\">\n",
       "  <thead>\n",
       "    <tr style=\"text-align: right;\">\n",
       "      <th></th>\n",
       "      <th>name</th>\n",
       "      <th>id</th>\n",
       "      <th>nametype</th>\n",
       "      <th>recclass</th>\n",
       "      <th>mass</th>\n",
       "      <th>year</th>\n",
       "      <th>reclat</th>\n",
       "      <th>reclong</th>\n",
       "      <th>Geo-Coordinates</th>\n",
       "    </tr>\n",
       "  </thead>\n",
       "  <tbody>\n",
       "    <tr>\n",
       "      <th>0</th>\n",
       "      <td>Aachen</td>\n",
       "      <td>1</td>\n",
       "      <td>Valid</td>\n",
       "      <td>L5</td>\n",
       "      <td>21.0</td>\n",
       "      <td>1880-01-01</td>\n",
       "      <td>50.77500</td>\n",
       "      <td>6.08333</td>\n",
       "      <td>[6, 6]</td>\n",
       "    </tr>\n",
       "    <tr>\n",
       "      <th>1</th>\n",
       "      <td>Aarhus</td>\n",
       "      <td>2</td>\n",
       "      <td>Valid</td>\n",
       "      <td>H6</td>\n",
       "      <td>720.0</td>\n",
       "      <td>1951-01-01</td>\n",
       "      <td>56.18333</td>\n",
       "      <td>10.23333</td>\n",
       "      <td>[10, 10]</td>\n",
       "    </tr>\n",
       "    <tr>\n",
       "      <th>2</th>\n",
       "      <td>Abee</td>\n",
       "      <td>6</td>\n",
       "      <td>Valid</td>\n",
       "      <td>EH4</td>\n",
       "      <td>107000.0</td>\n",
       "      <td>1952-01-01</td>\n",
       "      <td>54.21667</td>\n",
       "      <td>-113.00000</td>\n",
       "      <td>[-113, -113]</td>\n",
       "    </tr>\n",
       "    <tr>\n",
       "      <th>3</th>\n",
       "      <td>Acapulco</td>\n",
       "      <td>10</td>\n",
       "      <td>Valid</td>\n",
       "      <td>Acapulcoite</td>\n",
       "      <td>1914.0</td>\n",
       "      <td>1976-01-01</td>\n",
       "      <td>16.88333</td>\n",
       "      <td>-99.90000</td>\n",
       "      <td>[-99, -99]</td>\n",
       "    </tr>\n",
       "    <tr>\n",
       "      <th>4</th>\n",
       "      <td>Achiras</td>\n",
       "      <td>370</td>\n",
       "      <td>Valid</td>\n",
       "      <td>L6</td>\n",
       "      <td>780.0</td>\n",
       "      <td>1902-01-01</td>\n",
       "      <td>-33.16667</td>\n",
       "      <td>-64.95000</td>\n",
       "      <td>[-64, -64]</td>\n",
       "    </tr>\n",
       "  </tbody>\n",
       "</table>\n",
       "</div>"
      ],
      "text/plain": [
       "       name   id nametype     recclass      mass        year    reclat  \\\n",
       "0    Aachen    1    Valid           L5      21.0  1880-01-01  50.77500   \n",
       "1    Aarhus    2    Valid           H6     720.0  1951-01-01  56.18333   \n",
       "2      Abee    6    Valid          EH4  107000.0  1952-01-01  54.21667   \n",
       "3  Acapulco   10    Valid  Acapulcoite    1914.0  1976-01-01  16.88333   \n",
       "4   Achiras  370    Valid           L6     780.0  1902-01-01 -33.16667   \n",
       "\n",
       "     reclong Geo-Coordinates  \n",
       "0    6.08333          [6, 6]  \n",
       "1   10.23333        [10, 10]  \n",
       "2 -113.00000    [-113, -113]  \n",
       "3  -99.90000      [-99, -99]  \n",
       "4  -64.95000      [-64, -64]  "
      ]
     },
     "execution_count": 13,
     "metadata": {},
     "output_type": "execute_result"
    }
   ],
   "source": [
    "df_met_before2000.head()"
   ]
  },
  {
   "cell_type": "code",
   "execution_count": null,
   "id": "51e3ad9f",
   "metadata": {},
   "outputs": [],
   "source": []
  },
  {
   "cell_type": "code",
   "execution_count": null,
   "id": "4c8392f8",
   "metadata": {},
   "outputs": [],
   "source": []
  },
  {
   "cell_type": "markdown",
   "id": "fc25690a",
   "metadata": {},
   "source": [
    "### - Get all the earth meteorites co-ordinates who fell before the year 1970\n",
    "   "
   ]
  },
  {
   "cell_type": "code",
   "execution_count": 14,
   "id": "bf0b282a",
   "metadata": {},
   "outputs": [
    {
     "data": {
      "text/plain": [
       "0            [6, 6]\n",
       "1          [10, 10]\n",
       "2      [-113, -113]\n",
       "4        [-64, -64]\n",
       "5          [71, 71]\n",
       "           ...     \n",
       "994        [35, 35]\n",
       "995        [79, 79]\n",
       "997      [111, 111]\n",
       "998      [106, 106]\n",
       "999        [34, 34]\n",
       "Name: Geo-Coordinates, Length: 763, dtype: object"
      ]
     },
     "execution_count": 14,
     "metadata": {},
     "output_type": "execute_result"
    }
   ],
   "source": [
    "df1[df1['year'] < '1970-01-01']['Geo-Coordinates']"
   ]
  },
  {
   "cell_type": "code",
   "execution_count": null,
   "id": "9338f3d8",
   "metadata": {},
   "outputs": [],
   "source": []
  },
  {
   "cell_type": "code",
   "execution_count": null,
   "id": "ed09bb4e",
   "metadata": {},
   "outputs": [],
   "source": []
  },
  {
   "cell_type": "markdown",
   "id": "9af087e2",
   "metadata": {},
   "source": [
    "### - Assuming that the mass of the earth meteorites was in kg, get all those whose mass was more than 10000kg\n"
   ]
  },
  {
   "cell_type": "code",
   "execution_count": 15,
   "id": "e81976f0",
   "metadata": {},
   "outputs": [
    {
     "data": {
      "text/html": [
       "<div>\n",
       "<style scoped>\n",
       "    .dataframe tbody tr th:only-of-type {\n",
       "        vertical-align: middle;\n",
       "    }\n",
       "\n",
       "    .dataframe tbody tr th {\n",
       "        vertical-align: top;\n",
       "    }\n",
       "\n",
       "    .dataframe thead th {\n",
       "        text-align: right;\n",
       "    }\n",
       "</style>\n",
       "<table border=\"1\" class=\"dataframe\">\n",
       "  <thead>\n",
       "    <tr style=\"text-align: right;\">\n",
       "      <th></th>\n",
       "      <th>name</th>\n",
       "      <th>id</th>\n",
       "      <th>nametype</th>\n",
       "      <th>recclass</th>\n",
       "      <th>mass</th>\n",
       "      <th>year</th>\n",
       "      <th>reclat</th>\n",
       "      <th>reclong</th>\n",
       "      <th>Geo-Coordinates</th>\n",
       "    </tr>\n",
       "  </thead>\n",
       "  <tbody>\n",
       "    <tr>\n",
       "      <th>2</th>\n",
       "      <td>Abee</td>\n",
       "      <td>6</td>\n",
       "      <td>Valid</td>\n",
       "      <td>EH4</td>\n",
       "      <td>107000.0</td>\n",
       "      <td>1952-01-01</td>\n",
       "      <td>54.21667</td>\n",
       "      <td>-113.00000</td>\n",
       "      <td>[-113, -113]</td>\n",
       "    </tr>\n",
       "    <tr>\n",
       "      <th>7</th>\n",
       "      <td>Agen</td>\n",
       "      <td>392</td>\n",
       "      <td>Valid</td>\n",
       "      <td>H5</td>\n",
       "      <td>30000.0</td>\n",
       "      <td>1814-01-01</td>\n",
       "      <td>44.21667</td>\n",
       "      <td>0.61667</td>\n",
       "      <td>[0, 0]</td>\n",
       "    </tr>\n",
       "    <tr>\n",
       "      <th>11</th>\n",
       "      <td>Aïr</td>\n",
       "      <td>424</td>\n",
       "      <td>Valid</td>\n",
       "      <td>L6</td>\n",
       "      <td>24000.0</td>\n",
       "      <td>1925-01-01</td>\n",
       "      <td>19.08333</td>\n",
       "      <td>8.38333</td>\n",
       "      <td>[8, 8]</td>\n",
       "    </tr>\n",
       "    <tr>\n",
       "      <th>16</th>\n",
       "      <td>Akyumak</td>\n",
       "      <td>433</td>\n",
       "      <td>Valid</td>\n",
       "      <td>Iron, IVA</td>\n",
       "      <td>50000.0</td>\n",
       "      <td>1981-01-01</td>\n",
       "      <td>39.91667</td>\n",
       "      <td>42.81667</td>\n",
       "      <td>[42, 42]</td>\n",
       "    </tr>\n",
       "    <tr>\n",
       "      <th>27</th>\n",
       "      <td>Alfianello</td>\n",
       "      <td>466</td>\n",
       "      <td>Valid</td>\n",
       "      <td>L6</td>\n",
       "      <td>228000.0</td>\n",
       "      <td>1883-01-01</td>\n",
       "      <td>45.26667</td>\n",
       "      <td>10.15000</td>\n",
       "      <td>[10, 10]</td>\n",
       "    </tr>\n",
       "    <tr>\n",
       "      <th>...</th>\n",
       "      <td>...</td>\n",
       "      <td>...</td>\n",
       "      <td>...</td>\n",
       "      <td>...</td>\n",
       "      <td>...</td>\n",
       "      <td>...</td>\n",
       "      <td>...</td>\n",
       "      <td>...</td>\n",
       "      <td>...</td>\n",
       "    </tr>\n",
       "    <tr>\n",
       "      <th>991</th>\n",
       "      <td>Tieschitz</td>\n",
       "      <td>23989</td>\n",
       "      <td>Valid</td>\n",
       "      <td>H/L3.6</td>\n",
       "      <td>28000.0</td>\n",
       "      <td>1878-01-01</td>\n",
       "      <td>49.60000</td>\n",
       "      <td>17.11667</td>\n",
       "      <td>[17, 17]</td>\n",
       "    </tr>\n",
       "    <tr>\n",
       "      <th>992</th>\n",
       "      <td>Tilden</td>\n",
       "      <td>23998</td>\n",
       "      <td>Valid</td>\n",
       "      <td>L6</td>\n",
       "      <td>74800.0</td>\n",
       "      <td>1927-01-01</td>\n",
       "      <td>38.20000</td>\n",
       "      <td>-89.68333</td>\n",
       "      <td>[-89, -89]</td>\n",
       "    </tr>\n",
       "    <tr>\n",
       "      <th>994</th>\n",
       "      <td>Timochin</td>\n",
       "      <td>24004</td>\n",
       "      <td>Valid</td>\n",
       "      <td>H5</td>\n",
       "      <td>65500.0</td>\n",
       "      <td>1807-01-01</td>\n",
       "      <td>54.50000</td>\n",
       "      <td>35.20000</td>\n",
       "      <td>[35, 35]</td>\n",
       "    </tr>\n",
       "    <tr>\n",
       "      <th>997</th>\n",
       "      <td>Tjabe</td>\n",
       "      <td>24011</td>\n",
       "      <td>Valid</td>\n",
       "      <td>H6</td>\n",
       "      <td>20000.0</td>\n",
       "      <td>1869-01-01</td>\n",
       "      <td>-7.08333</td>\n",
       "      <td>111.53333</td>\n",
       "      <td>[111, 111]</td>\n",
       "    </tr>\n",
       "    <tr>\n",
       "      <th>998</th>\n",
       "      <td>Tjerebon</td>\n",
       "      <td>24012</td>\n",
       "      <td>Valid</td>\n",
       "      <td>L5</td>\n",
       "      <td>16500.0</td>\n",
       "      <td>1922-01-01</td>\n",
       "      <td>-6.66667</td>\n",
       "      <td>106.58333</td>\n",
       "      <td>[106, 106]</td>\n",
       "    </tr>\n",
       "  </tbody>\n",
       "</table>\n",
       "<p>243 rows × 9 columns</p>\n",
       "</div>"
      ],
      "text/plain": [
       "           name     id nametype   recclass      mass        year    reclat  \\\n",
       "2          Abee      6    Valid        EH4  107000.0  1952-01-01  54.21667   \n",
       "7          Agen    392    Valid         H5   30000.0  1814-01-01  44.21667   \n",
       "11          Aïr    424    Valid         L6   24000.0  1925-01-01  19.08333   \n",
       "16      Akyumak    433    Valid  Iron, IVA   50000.0  1981-01-01  39.91667   \n",
       "27   Alfianello    466    Valid         L6  228000.0  1883-01-01  45.26667   \n",
       "..          ...    ...      ...        ...       ...         ...       ...   \n",
       "991   Tieschitz  23989    Valid     H/L3.6   28000.0  1878-01-01  49.60000   \n",
       "992      Tilden  23998    Valid         L6   74800.0  1927-01-01  38.20000   \n",
       "994    Timochin  24004    Valid         H5   65500.0  1807-01-01  54.50000   \n",
       "997       Tjabe  24011    Valid         H6   20000.0  1869-01-01  -7.08333   \n",
       "998    Tjerebon  24012    Valid         L5   16500.0  1922-01-01  -6.66667   \n",
       "\n",
       "       reclong Geo-Coordinates  \n",
       "2   -113.00000    [-113, -113]  \n",
       "7      0.61667          [0, 0]  \n",
       "11     8.38333          [8, 8]  \n",
       "16    42.81667        [42, 42]  \n",
       "27    10.15000        [10, 10]  \n",
       "..         ...             ...  \n",
       "991   17.11667        [17, 17]  \n",
       "992  -89.68333      [-89, -89]  \n",
       "994   35.20000        [35, 35]  \n",
       "997  111.53333      [111, 111]  \n",
       "998  106.58333      [106, 106]  \n",
       "\n",
       "[243 rows x 9 columns]"
      ]
     },
     "execution_count": 15,
     "metadata": {},
     "output_type": "execute_result"
    }
   ],
   "source": [
    "df1[df1['mass']>10000]"
   ]
  },
  {
   "cell_type": "code",
   "execution_count": null,
   "id": "d3cdbe8d",
   "metadata": {},
   "outputs": [],
   "source": []
  },
  {
   "cell_type": "code",
   "execution_count": null,
   "id": "ad6f3bd6",
   "metadata": {},
   "outputs": [],
   "source": []
  },
  {
   "cell_type": "code",
   "execution_count": null,
   "id": "c380fe29",
   "metadata": {},
   "outputs": [],
   "source": []
  },
  {
   "cell_type": "code",
   "execution_count": null,
   "id": "5ef3fcb1",
   "metadata": {},
   "outputs": [],
   "source": []
  }
 ],
 "metadata": {
  "kernelspec": {
   "display_name": "Python 3",
   "language": "python",
   "name": "python3"
  },
  "language_info": {
   "codemirror_mode": {
    "name": "ipython",
    "version": 3
   },
   "file_extension": ".py",
   "mimetype": "text/x-python",
   "name": "python",
   "nbconvert_exporter": "python",
   "pygments_lexer": "ipython3",
   "version": "3.8.8"
  }
 },
 "nbformat": 4,
 "nbformat_minor": 5
}
