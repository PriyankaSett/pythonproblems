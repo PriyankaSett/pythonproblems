{
 "cells": [
  {
   "cell_type": "markdown",
   "id": "7ffbef73",
   "metadata": {},
   "source": [
    "\n",
    "\n",
    "**Question 8.**  \n",
    "\n",
    "Using the data from Question 5, write code the analyze the data and answer the following questions. \n",
    "\n",
    "Note -\n",
    "1. Draw plots to demonstrate the analysis for the following questions and better visualizations. \n",
    "2. Write code comments wherever required for code understanding. \n",
    "\n",
    "Insights to be drawn -\n",
    "- Get all the overall ratings for each season and using plots compare the ratings for all theseasons, like season 1 ratings, season 2, and so on. \n",
    "- Get all the episode names, whose average rating is more than 8 for every season.\n",
    "- Get all the episode names that aired before May 2019.\n",
    "- Get the episode name from each season with the highest and lowest rating.\n",
    "- Get the summary for the most popular ( ratings ) episode in every season."
   ]
  },
  {
   "cell_type": "code",
   "execution_count": 1,
   "id": "8d55f6eb",
   "metadata": {},
   "outputs": [],
   "source": [
    "import numpy as np\n",
    "import pandas as pd \n",
    "import seaborn as sns\n",
    "import matplotlib.pyplot as plt \n",
    "%matplotlib inline \n",
    "pd.set_option('display.max_columns', None)"
   ]
  },
  {
   "cell_type": "code",
   "execution_count": 2,
   "id": "14a68a93",
   "metadata": {},
   "outputs": [],
   "source": [
    "df = pd.read_csv('shows_data.csv')"
   ]
  },
  {
   "cell_type": "code",
   "execution_count": 3,
   "id": "8499d840",
   "metadata": {},
   "outputs": [
    {
     "data": {
      "text/plain": [
       "Index(['Unnamed: 0', 'id', 'url', 'name', 'season', 'number', 'type',\n",
       "       'airdate', 'airtime', 'runtime', 'Average Rating', 'summary',\n",
       "       'Medium Image(url)', 'Original Image(url)'],\n",
       "      dtype='object')"
      ]
     },
     "execution_count": 3,
     "metadata": {},
     "output_type": "execute_result"
    }
   ],
   "source": [
    "df.columns"
   ]
  },
  {
   "cell_type": "code",
   "execution_count": 4,
   "id": "330d4314",
   "metadata": {},
   "outputs": [],
   "source": [
    "df.drop(labels = 'Unnamed: 0', axis = 1, inplace=True)"
   ]
  },
  {
   "cell_type": "code",
   "execution_count": 5,
   "id": "cfc19196",
   "metadata": {},
   "outputs": [
    {
     "data": {
      "text/html": [
       "<div>\n",
       "<style scoped>\n",
       "    .dataframe tbody tr th:only-of-type {\n",
       "        vertical-align: middle;\n",
       "    }\n",
       "\n",
       "    .dataframe tbody tr th {\n",
       "        vertical-align: top;\n",
       "    }\n",
       "\n",
       "    .dataframe thead th {\n",
       "        text-align: right;\n",
       "    }\n",
       "</style>\n",
       "<table border=\"1\" class=\"dataframe\">\n",
       "  <thead>\n",
       "    <tr style=\"text-align: right;\">\n",
       "      <th></th>\n",
       "      <th>id</th>\n",
       "      <th>url</th>\n",
       "      <th>name</th>\n",
       "      <th>season</th>\n",
       "      <th>number</th>\n",
       "      <th>type</th>\n",
       "      <th>airdate</th>\n",
       "      <th>airtime</th>\n",
       "      <th>runtime</th>\n",
       "      <th>Average Rating</th>\n",
       "      <th>summary</th>\n",
       "      <th>Medium Image(url)</th>\n",
       "      <th>Original Image(url)</th>\n",
       "    </tr>\n",
       "  </thead>\n",
       "  <tbody>\n",
       "    <tr>\n",
       "      <th>0</th>\n",
       "      <td>869671</td>\n",
       "      <td>https://www.tvmaze.com/episodes/869671/westwor...</td>\n",
       "      <td>The Original</td>\n",
       "      <td>1</td>\n",
       "      <td>1</td>\n",
       "      <td>regular</td>\n",
       "      <td>2016-10-02</td>\n",
       "      <td>21:00</td>\n",
       "      <td>68.0</td>\n",
       "      <td>8.0</td>\n",
       "      <td>A woman named Dolores is a free spirit in the ...</td>\n",
       "      <td>https://static.tvmaze.com/uploads/images/mediu...</td>\n",
       "      <td>https://static.tvmaze.com/uploads/images/origi...</td>\n",
       "    </tr>\n",
       "    <tr>\n",
       "      <th>1</th>\n",
       "      <td>911201</td>\n",
       "      <td>https://www.tvmaze.com/episodes/911201/westwor...</td>\n",
       "      <td>Chestnut</td>\n",
       "      <td>1</td>\n",
       "      <td>2</td>\n",
       "      <td>regular</td>\n",
       "      <td>2016-10-09</td>\n",
       "      <td>21:00</td>\n",
       "      <td>60.0</td>\n",
       "      <td>7.7</td>\n",
       "      <td>Bernard suspects that someone is sabotaging th...</td>\n",
       "      <td>https://static.tvmaze.com/uploads/images/mediu...</td>\n",
       "      <td>https://static.tvmaze.com/uploads/images/origi...</td>\n",
       "    </tr>\n",
       "    <tr>\n",
       "      <th>2</th>\n",
       "      <td>911204</td>\n",
       "      <td>https://www.tvmaze.com/episodes/911204/westwor...</td>\n",
       "      <td>The Stray</td>\n",
       "      <td>1</td>\n",
       "      <td>3</td>\n",
       "      <td>regular</td>\n",
       "      <td>2016-10-16</td>\n",
       "      <td>21:00</td>\n",
       "      <td>60.0</td>\n",
       "      <td>7.6</td>\n",
       "      <td>Bernard continues to investigate Dolores' supp...</td>\n",
       "      <td>https://static.tvmaze.com/uploads/images/mediu...</td>\n",
       "      <td>https://static.tvmaze.com/uploads/images/origi...</td>\n",
       "    </tr>\n",
       "    <tr>\n",
       "      <th>3</th>\n",
       "      <td>911205</td>\n",
       "      <td>https://www.tvmaze.com/episodes/911205/westwor...</td>\n",
       "      <td>Dissonance Theory</td>\n",
       "      <td>1</td>\n",
       "      <td>4</td>\n",
       "      <td>regular</td>\n",
       "      <td>2016-10-23</td>\n",
       "      <td>21:00</td>\n",
       "      <td>60.0</td>\n",
       "      <td>7.9</td>\n",
       "      <td>While Dolores joins William and Logan on their...</td>\n",
       "      <td>https://static.tvmaze.com/uploads/images/mediu...</td>\n",
       "      <td>https://static.tvmaze.com/uploads/images/origi...</td>\n",
       "    </tr>\n",
       "    <tr>\n",
       "      <th>4</th>\n",
       "      <td>927174</td>\n",
       "      <td>https://www.tvmaze.com/episodes/927174/westwor...</td>\n",
       "      <td>Contrapasso</td>\n",
       "      <td>1</td>\n",
       "      <td>5</td>\n",
       "      <td>regular</td>\n",
       "      <td>2016-10-30</td>\n",
       "      <td>21:00</td>\n",
       "      <td>60.0</td>\n",
       "      <td>8.0</td>\n",
       "      <td>Dolores takes the first step on her path of di...</td>\n",
       "      <td>https://static.tvmaze.com/uploads/images/mediu...</td>\n",
       "      <td>https://static.tvmaze.com/uploads/images/origi...</td>\n",
       "    </tr>\n",
       "  </tbody>\n",
       "</table>\n",
       "</div>"
      ],
      "text/plain": [
       "       id                                                url  \\\n",
       "0  869671  https://www.tvmaze.com/episodes/869671/westwor...   \n",
       "1  911201  https://www.tvmaze.com/episodes/911201/westwor...   \n",
       "2  911204  https://www.tvmaze.com/episodes/911204/westwor...   \n",
       "3  911205  https://www.tvmaze.com/episodes/911205/westwor...   \n",
       "4  927174  https://www.tvmaze.com/episodes/927174/westwor...   \n",
       "\n",
       "                name  season  number     type     airdate airtime  runtime  \\\n",
       "0       The Original       1       1  regular  2016-10-02   21:00     68.0   \n",
       "1           Chestnut       1       2  regular  2016-10-09   21:00     60.0   \n",
       "2          The Stray       1       3  regular  2016-10-16   21:00     60.0   \n",
       "3  Dissonance Theory       1       4  regular  2016-10-23   21:00     60.0   \n",
       "4        Contrapasso       1       5  regular  2016-10-30   21:00     60.0   \n",
       "\n",
       "   Average Rating                                            summary  \\\n",
       "0             8.0  A woman named Dolores is a free spirit in the ...   \n",
       "1             7.7  Bernard suspects that someone is sabotaging th...   \n",
       "2             7.6  Bernard continues to investigate Dolores' supp...   \n",
       "3             7.9  While Dolores joins William and Logan on their...   \n",
       "4             8.0  Dolores takes the first step on her path of di...   \n",
       "\n",
       "                                   Medium Image(url)  \\\n",
       "0  https://static.tvmaze.com/uploads/images/mediu...   \n",
       "1  https://static.tvmaze.com/uploads/images/mediu...   \n",
       "2  https://static.tvmaze.com/uploads/images/mediu...   \n",
       "3  https://static.tvmaze.com/uploads/images/mediu...   \n",
       "4  https://static.tvmaze.com/uploads/images/mediu...   \n",
       "\n",
       "                                 Original Image(url)  \n",
       "0  https://static.tvmaze.com/uploads/images/origi...  \n",
       "1  https://static.tvmaze.com/uploads/images/origi...  \n",
       "2  https://static.tvmaze.com/uploads/images/origi...  \n",
       "3  https://static.tvmaze.com/uploads/images/origi...  \n",
       "4  https://static.tvmaze.com/uploads/images/origi...  "
      ]
     },
     "execution_count": 5,
     "metadata": {},
     "output_type": "execute_result"
    }
   ],
   "source": [
    "df.head()"
   ]
  },
  {
   "cell_type": "code",
   "execution_count": 6,
   "id": "844ed9d0",
   "metadata": {},
   "outputs": [
    {
     "data": {
      "text/plain": [
       "(36, 13)"
      ]
     },
     "execution_count": 6,
     "metadata": {},
     "output_type": "execute_result"
    }
   ],
   "source": [
    "df.shape"
   ]
  },
  {
   "cell_type": "code",
   "execution_count": 7,
   "id": "04c247e1",
   "metadata": {},
   "outputs": [
    {
     "name": "stdout",
     "output_type": "stream",
     "text": [
      "<class 'pandas.core.frame.DataFrame'>\n",
      "RangeIndex: 36 entries, 0 to 35\n",
      "Data columns (total 13 columns):\n",
      " #   Column               Non-Null Count  Dtype  \n",
      "---  ------               --------------  -----  \n",
      " 0   id                   36 non-null     int64  \n",
      " 1   url                  36 non-null     object \n",
      " 2   name                 36 non-null     object \n",
      " 3   season               36 non-null     int64  \n",
      " 4   number               36 non-null     int64  \n",
      " 5   type                 36 non-null     object \n",
      " 6   airdate              36 non-null     object \n",
      " 7   airtime              36 non-null     object \n",
      " 8   runtime              36 non-null     float64\n",
      " 9   Average Rating       36 non-null     float64\n",
      " 10  summary              36 non-null     object \n",
      " 11  Medium Image(url)    36 non-null     object \n",
      " 12  Original Image(url)  36 non-null     object \n",
      "dtypes: float64(2), int64(3), object(8)\n",
      "memory usage: 3.8+ KB\n"
     ]
    }
   ],
   "source": [
    "df.info()"
   ]
  },
  {
   "cell_type": "code",
   "execution_count": 8,
   "id": "86cb500c",
   "metadata": {},
   "outputs": [
    {
     "data": {
      "text/html": [
       "<div>\n",
       "<style scoped>\n",
       "    .dataframe tbody tr th:only-of-type {\n",
       "        vertical-align: middle;\n",
       "    }\n",
       "\n",
       "    .dataframe tbody tr th {\n",
       "        vertical-align: top;\n",
       "    }\n",
       "\n",
       "    .dataframe thead th {\n",
       "        text-align: right;\n",
       "    }\n",
       "</style>\n",
       "<table border=\"1\" class=\"dataframe\">\n",
       "  <thead>\n",
       "    <tr style=\"text-align: right;\">\n",
       "      <th></th>\n",
       "      <th>id</th>\n",
       "      <th>season</th>\n",
       "      <th>number</th>\n",
       "      <th>runtime</th>\n",
       "      <th>Average Rating</th>\n",
       "    </tr>\n",
       "  </thead>\n",
       "  <tbody>\n",
       "    <tr>\n",
       "      <th>count</th>\n",
       "      <td>3.600000e+01</td>\n",
       "      <td>36.000000</td>\n",
       "      <td>36.000000</td>\n",
       "      <td>36.000000</td>\n",
       "      <td>36.000000</td>\n",
       "    </tr>\n",
       "    <tr>\n",
       "      <th>mean</th>\n",
       "      <td>1.570518e+06</td>\n",
       "      <td>2.388889</td>\n",
       "      <td>5.055556</td>\n",
       "      <td>62.888889</td>\n",
       "      <td>7.872222</td>\n",
       "    </tr>\n",
       "    <tr>\n",
       "      <th>std</th>\n",
       "      <td>5.198296e+05</td>\n",
       "      <td>1.128280</td>\n",
       "      <td>2.714453</td>\n",
       "      <td>8.386308</td>\n",
       "      <td>0.373869</td>\n",
       "    </tr>\n",
       "    <tr>\n",
       "      <th>min</th>\n",
       "      <td>8.696710e+05</td>\n",
       "      <td>1.000000</td>\n",
       "      <td>1.000000</td>\n",
       "      <td>51.000000</td>\n",
       "      <td>7.100000</td>\n",
       "    </tr>\n",
       "    <tr>\n",
       "      <th>25%</th>\n",
       "      <td>9.430668e+05</td>\n",
       "      <td>1.000000</td>\n",
       "      <td>3.000000</td>\n",
       "      <td>60.000000</td>\n",
       "      <td>7.675000</td>\n",
       "    </tr>\n",
       "    <tr>\n",
       "      <th>50%</th>\n",
       "      <td>1.459790e+06</td>\n",
       "      <td>2.000000</td>\n",
       "      <td>5.000000</td>\n",
       "      <td>60.000000</td>\n",
       "      <td>7.800000</td>\n",
       "    </tr>\n",
       "    <tr>\n",
       "      <th>75%</th>\n",
       "      <td>1.807458e+06</td>\n",
       "      <td>3.000000</td>\n",
       "      <td>7.000000</td>\n",
       "      <td>60.000000</td>\n",
       "      <td>8.000000</td>\n",
       "    </tr>\n",
       "    <tr>\n",
       "      <th>max</th>\n",
       "      <td>2.326661e+06</td>\n",
       "      <td>4.000000</td>\n",
       "      <td>10.000000</td>\n",
       "      <td>90.000000</td>\n",
       "      <td>8.700000</td>\n",
       "    </tr>\n",
       "  </tbody>\n",
       "</table>\n",
       "</div>"
      ],
      "text/plain": [
       "                 id     season     number    runtime  Average Rating\n",
       "count  3.600000e+01  36.000000  36.000000  36.000000       36.000000\n",
       "mean   1.570518e+06   2.388889   5.055556  62.888889        7.872222\n",
       "std    5.198296e+05   1.128280   2.714453   8.386308        0.373869\n",
       "min    8.696710e+05   1.000000   1.000000  51.000000        7.100000\n",
       "25%    9.430668e+05   1.000000   3.000000  60.000000        7.675000\n",
       "50%    1.459790e+06   2.000000   5.000000  60.000000        7.800000\n",
       "75%    1.807458e+06   3.000000   7.000000  60.000000        8.000000\n",
       "max    2.326661e+06   4.000000  10.000000  90.000000        8.700000"
      ]
     },
     "execution_count": 8,
     "metadata": {},
     "output_type": "execute_result"
    }
   ],
   "source": [
    "df.describe()"
   ]
  },
  {
   "cell_type": "code",
   "execution_count": 9,
   "id": "ba6af4c1",
   "metadata": {},
   "outputs": [
    {
     "data": {
      "text/plain": [
       "id                     0\n",
       "url                    0\n",
       "name                   0\n",
       "season                 0\n",
       "number                 0\n",
       "type                   0\n",
       "airdate                0\n",
       "airtime                0\n",
       "runtime                0\n",
       "Average Rating         0\n",
       "summary                0\n",
       "Medium Image(url)      0\n",
       "Original Image(url)    0\n",
       "dtype: int64"
      ]
     },
     "execution_count": 9,
     "metadata": {},
     "output_type": "execute_result"
    }
   ],
   "source": [
    "df.isnull().sum()"
   ]
  },
  {
   "cell_type": "code",
   "execution_count": 10,
   "id": "8508b489",
   "metadata": {},
   "outputs": [
    {
     "data": {
      "text/plain": [
       "1    10\n",
       "2    10\n",
       "3     8\n",
       "4     8\n",
       "Name: season, dtype: int64"
      ]
     },
     "execution_count": 10,
     "metadata": {},
     "output_type": "execute_result"
    }
   ],
   "source": [
    "df['season'].value_counts()"
   ]
  },
  {
   "cell_type": "code",
   "execution_count": 11,
   "id": "17a2ae3c",
   "metadata": {},
   "outputs": [
    {
     "data": {
      "text/plain": [
       "1     4\n",
       "2     4\n",
       "3     4\n",
       "4     4\n",
       "5     4\n",
       "6     4\n",
       "7     4\n",
       "8     4\n",
       "9     2\n",
       "10    2\n",
       "Name: number, dtype: int64"
      ]
     },
     "execution_count": 11,
     "metadata": {},
     "output_type": "execute_result"
    }
   ],
   "source": [
    "df['number'].value_counts()"
   ]
  },
  {
   "cell_type": "code",
   "execution_count": 12,
   "id": "466b32e7",
   "metadata": {},
   "outputs": [
    {
     "data": {
      "text/plain": [
       "7.7    7\n",
       "8.0    6\n",
       "7.9    4\n",
       "7.8    4\n",
       "7.5    4\n",
       "7.6    3\n",
       "8.5    2\n",
       "8.7    2\n",
       "7.4    1\n",
       "8.6    1\n",
       "7.1    1\n",
       "8.4    1\n",
       "Name: Average Rating, dtype: int64"
      ]
     },
     "execution_count": 12,
     "metadata": {},
     "output_type": "execute_result"
    }
   ],
   "source": [
    "df['Average Rating'].value_counts()"
   ]
  },
  {
   "cell_type": "code",
   "execution_count": 13,
   "id": "45f78a10",
   "metadata": {},
   "outputs": [
    {
     "data": {
      "text/plain": [
       "2020-04-26    1\n",
       "2018-05-27    1\n",
       "2022-07-31    1\n",
       "2022-08-14    1\n",
       "2020-04-19    1\n",
       "2020-05-03    1\n",
       "2016-12-04    1\n",
       "2022-08-07    1\n",
       "2018-06-17    1\n",
       "2018-04-22    1\n",
       "2020-03-15    1\n",
       "2018-05-20    1\n",
       "2016-10-09    1\n",
       "2016-11-13    1\n",
       "2016-10-02    1\n",
       "2018-05-06    1\n",
       "2016-11-27    1\n",
       "2022-07-10    1\n",
       "2018-06-10    1\n",
       "2020-04-05    1\n",
       "2018-06-03    1\n",
       "2018-04-29    1\n",
       "2018-05-13    1\n",
       "2022-07-03    1\n",
       "2022-07-24    1\n",
       "2016-10-23    1\n",
       "2020-03-29    1\n",
       "2020-04-12    1\n",
       "2016-10-16    1\n",
       "2022-06-26    1\n",
       "2020-03-22    1\n",
       "2022-07-17    1\n",
       "2016-11-20    1\n",
       "2018-06-24    1\n",
       "2016-11-06    1\n",
       "2016-10-30    1\n",
       "Name: airdate, dtype: int64"
      ]
     },
     "execution_count": 13,
     "metadata": {},
     "output_type": "execute_result"
    }
   ],
   "source": [
    "df['airdate'].value_counts()"
   ]
  },
  {
   "cell_type": "code",
   "execution_count": 14,
   "id": "41051c34",
   "metadata": {},
   "outputs": [],
   "source": [
    "# let us create a column for year : \n",
    "\n",
    "\n",
    "#df['Year'] = df['airdate'].apply(lambda x : x.split('-')[0])\n",
    "\n",
    "df['airdate'] = pd.to_datetime(df['airdate'])"
   ]
  },
  {
   "cell_type": "code",
   "execution_count": 15,
   "id": "98984887",
   "metadata": {},
   "outputs": [
    {
     "data": {
      "text/html": [
       "<div>\n",
       "<style scoped>\n",
       "    .dataframe tbody tr th:only-of-type {\n",
       "        vertical-align: middle;\n",
       "    }\n",
       "\n",
       "    .dataframe tbody tr th {\n",
       "        vertical-align: top;\n",
       "    }\n",
       "\n",
       "    .dataframe thead th {\n",
       "        text-align: right;\n",
       "    }\n",
       "</style>\n",
       "<table border=\"1\" class=\"dataframe\">\n",
       "  <thead>\n",
       "    <tr style=\"text-align: right;\">\n",
       "      <th></th>\n",
       "      <th>id</th>\n",
       "      <th>url</th>\n",
       "      <th>name</th>\n",
       "      <th>season</th>\n",
       "      <th>number</th>\n",
       "      <th>type</th>\n",
       "      <th>airdate</th>\n",
       "      <th>airtime</th>\n",
       "      <th>runtime</th>\n",
       "      <th>Average Rating</th>\n",
       "      <th>summary</th>\n",
       "      <th>Medium Image(url)</th>\n",
       "      <th>Original Image(url)</th>\n",
       "    </tr>\n",
       "  </thead>\n",
       "  <tbody>\n",
       "    <tr>\n",
       "      <th>0</th>\n",
       "      <td>869671</td>\n",
       "      <td>https://www.tvmaze.com/episodes/869671/westwor...</td>\n",
       "      <td>The Original</td>\n",
       "      <td>1</td>\n",
       "      <td>1</td>\n",
       "      <td>regular</td>\n",
       "      <td>2016-10-02</td>\n",
       "      <td>21:00</td>\n",
       "      <td>68.0</td>\n",
       "      <td>8.0</td>\n",
       "      <td>A woman named Dolores is a free spirit in the ...</td>\n",
       "      <td>https://static.tvmaze.com/uploads/images/mediu...</td>\n",
       "      <td>https://static.tvmaze.com/uploads/images/origi...</td>\n",
       "    </tr>\n",
       "    <tr>\n",
       "      <th>1</th>\n",
       "      <td>911201</td>\n",
       "      <td>https://www.tvmaze.com/episodes/911201/westwor...</td>\n",
       "      <td>Chestnut</td>\n",
       "      <td>1</td>\n",
       "      <td>2</td>\n",
       "      <td>regular</td>\n",
       "      <td>2016-10-09</td>\n",
       "      <td>21:00</td>\n",
       "      <td>60.0</td>\n",
       "      <td>7.7</td>\n",
       "      <td>Bernard suspects that someone is sabotaging th...</td>\n",
       "      <td>https://static.tvmaze.com/uploads/images/mediu...</td>\n",
       "      <td>https://static.tvmaze.com/uploads/images/origi...</td>\n",
       "    </tr>\n",
       "    <tr>\n",
       "      <th>2</th>\n",
       "      <td>911204</td>\n",
       "      <td>https://www.tvmaze.com/episodes/911204/westwor...</td>\n",
       "      <td>The Stray</td>\n",
       "      <td>1</td>\n",
       "      <td>3</td>\n",
       "      <td>regular</td>\n",
       "      <td>2016-10-16</td>\n",
       "      <td>21:00</td>\n",
       "      <td>60.0</td>\n",
       "      <td>7.6</td>\n",
       "      <td>Bernard continues to investigate Dolores' supp...</td>\n",
       "      <td>https://static.tvmaze.com/uploads/images/mediu...</td>\n",
       "      <td>https://static.tvmaze.com/uploads/images/origi...</td>\n",
       "    </tr>\n",
       "    <tr>\n",
       "      <th>3</th>\n",
       "      <td>911205</td>\n",
       "      <td>https://www.tvmaze.com/episodes/911205/westwor...</td>\n",
       "      <td>Dissonance Theory</td>\n",
       "      <td>1</td>\n",
       "      <td>4</td>\n",
       "      <td>regular</td>\n",
       "      <td>2016-10-23</td>\n",
       "      <td>21:00</td>\n",
       "      <td>60.0</td>\n",
       "      <td>7.9</td>\n",
       "      <td>While Dolores joins William and Logan on their...</td>\n",
       "      <td>https://static.tvmaze.com/uploads/images/mediu...</td>\n",
       "      <td>https://static.tvmaze.com/uploads/images/origi...</td>\n",
       "    </tr>\n",
       "    <tr>\n",
       "      <th>4</th>\n",
       "      <td>927174</td>\n",
       "      <td>https://www.tvmaze.com/episodes/927174/westwor...</td>\n",
       "      <td>Contrapasso</td>\n",
       "      <td>1</td>\n",
       "      <td>5</td>\n",
       "      <td>regular</td>\n",
       "      <td>2016-10-30</td>\n",
       "      <td>21:00</td>\n",
       "      <td>60.0</td>\n",
       "      <td>8.0</td>\n",
       "      <td>Dolores takes the first step on her path of di...</td>\n",
       "      <td>https://static.tvmaze.com/uploads/images/mediu...</td>\n",
       "      <td>https://static.tvmaze.com/uploads/images/origi...</td>\n",
       "    </tr>\n",
       "  </tbody>\n",
       "</table>\n",
       "</div>"
      ],
      "text/plain": [
       "       id                                                url  \\\n",
       "0  869671  https://www.tvmaze.com/episodes/869671/westwor...   \n",
       "1  911201  https://www.tvmaze.com/episodes/911201/westwor...   \n",
       "2  911204  https://www.tvmaze.com/episodes/911204/westwor...   \n",
       "3  911205  https://www.tvmaze.com/episodes/911205/westwor...   \n",
       "4  927174  https://www.tvmaze.com/episodes/927174/westwor...   \n",
       "\n",
       "                name  season  number     type    airdate airtime  runtime  \\\n",
       "0       The Original       1       1  regular 2016-10-02   21:00     68.0   \n",
       "1           Chestnut       1       2  regular 2016-10-09   21:00     60.0   \n",
       "2          The Stray       1       3  regular 2016-10-16   21:00     60.0   \n",
       "3  Dissonance Theory       1       4  regular 2016-10-23   21:00     60.0   \n",
       "4        Contrapasso       1       5  regular 2016-10-30   21:00     60.0   \n",
       "\n",
       "   Average Rating                                            summary  \\\n",
       "0             8.0  A woman named Dolores is a free spirit in the ...   \n",
       "1             7.7  Bernard suspects that someone is sabotaging th...   \n",
       "2             7.6  Bernard continues to investigate Dolores' supp...   \n",
       "3             7.9  While Dolores joins William and Logan on their...   \n",
       "4             8.0  Dolores takes the first step on her path of di...   \n",
       "\n",
       "                                   Medium Image(url)  \\\n",
       "0  https://static.tvmaze.com/uploads/images/mediu...   \n",
       "1  https://static.tvmaze.com/uploads/images/mediu...   \n",
       "2  https://static.tvmaze.com/uploads/images/mediu...   \n",
       "3  https://static.tvmaze.com/uploads/images/mediu...   \n",
       "4  https://static.tvmaze.com/uploads/images/mediu...   \n",
       "\n",
       "                                 Original Image(url)  \n",
       "0  https://static.tvmaze.com/uploads/images/origi...  \n",
       "1  https://static.tvmaze.com/uploads/images/origi...  \n",
       "2  https://static.tvmaze.com/uploads/images/origi...  \n",
       "3  https://static.tvmaze.com/uploads/images/origi...  \n",
       "4  https://static.tvmaze.com/uploads/images/origi...  "
      ]
     },
     "execution_count": 15,
     "metadata": {},
     "output_type": "execute_result"
    }
   ],
   "source": [
    "df.head()"
   ]
  },
  {
   "cell_type": "code",
   "execution_count": null,
   "id": "7ade6fea",
   "metadata": {},
   "outputs": [],
   "source": []
  },
  {
   "cell_type": "code",
   "execution_count": null,
   "id": "1adf97ad",
   "metadata": {},
   "outputs": [],
   "source": []
  },
  {
   "cell_type": "code",
   "execution_count": 16,
   "id": "bf77b950",
   "metadata": {},
   "outputs": [],
   "source": [
    "df1 = df.copy()"
   ]
  },
  {
   "cell_type": "code",
   "execution_count": null,
   "id": "e04fabe9",
   "metadata": {},
   "outputs": [],
   "source": []
  },
  {
   "cell_type": "markdown",
   "id": "96ab6844",
   "metadata": {},
   "source": [
    "### - Get all the overall ratings for each season and using plots compare the ratings for all the seasons, like season 1 ratings, season 2, and so on. "
   ]
  },
  {
   "cell_type": "code",
   "execution_count": 17,
   "id": "403f4078",
   "metadata": {},
   "outputs": [
    {
     "data": {
      "text/plain": [
       "<AxesSubplot:xlabel='season'>"
      ]
     },
     "execution_count": 17,
     "metadata": {},
     "output_type": "execute_result"
    },
    {
     "data": {
      "image/png": "[encoded data removed]",
      "text/plain": [
       "<Figure size 432x288 with 1 Axes>"
      ]
     },
     "metadata": {
      "needs_background": "light"
     },
     "output_type": "display_data"
    }
   ],
   "source": [
    "df1.groupby('season')['Average Rating'].sum().plot(kind = 'bar')"
   ]
  },
  {
   "cell_type": "code",
   "execution_count": null,
   "id": "ed1ccb37",
   "metadata": {},
   "outputs": [],
   "source": []
  },
  {
   "cell_type": "code",
   "execution_count": null,
   "id": "15cf2169",
   "metadata": {},
   "outputs": [],
   "source": []
  },
  {
   "cell_type": "markdown",
   "id": "a91ddeec",
   "metadata": {},
   "source": [
    "### - Get all the episode names, whose average rating is more than 8 for every season."
   ]
  },
  {
   "cell_type": "code",
   "execution_count": 18,
   "id": "4764117f",
   "metadata": {},
   "outputs": [
    {
     "name": "stdout",
     "output_type": "stream",
     "text": [
      "6                 Trompe L'Oeil\n",
      "8     The Well-Tempered Clavier\n",
      "9            The Bicameral Mind\n",
      "17                      Kiksuya\n",
      "18              Vanishing Point\n",
      "19                The Passenger\n",
      "Name: name, dtype: object\n"
     ]
    }
   ],
   "source": [
    "print(df1[df1['Average Rating'] > 8]['name'])"
   ]
  },
  {
   "cell_type": "code",
   "execution_count": null,
   "id": "ab905730",
   "metadata": {},
   "outputs": [],
   "source": []
  },
  {
   "cell_type": "code",
   "execution_count": null,
   "id": "4e316a20",
   "metadata": {},
   "outputs": [],
   "source": []
  },
  {
   "cell_type": "code",
   "execution_count": null,
   "id": "2099b079",
   "metadata": {},
   "outputs": [],
   "source": []
  },
  {
   "cell_type": "markdown",
   "id": "1a83daea",
   "metadata": {},
   "source": [
    "### - Get all the episode names that aired before May 2019."
   ]
  },
  {
   "cell_type": "code",
   "execution_count": 19,
   "id": "2fe274c0",
   "metadata": {},
   "outputs": [
    {
     "data": {
      "text/plain": [
       "0                  The Original\n",
       "1                      Chestnut\n",
       "2                     The Stray\n",
       "3             Dissonance Theory\n",
       "4                   Contrapasso\n",
       "5                 The Adversary\n",
       "6                 Trompe L'Oeil\n",
       "7                   Trace Decay\n",
       "8     The Well-Tempered Clavier\n",
       "9            The Bicameral Mind\n",
       "10           Journey Into Night\n",
       "11                      Reunion\n",
       "12              Virtù e Fortuna\n",
       "13     The Riddle of the Sphinx\n",
       "14                 Akane No Mai\n",
       "15                  Phase Space\n",
       "16                 Les Écorchés\n",
       "17                      Kiksuya\n",
       "18              Vanishing Point\n",
       "19                The Passenger\n",
       "Name: name, dtype: object"
      ]
     },
     "execution_count": 19,
     "metadata": {},
     "output_type": "execute_result"
    }
   ],
   "source": [
    "df1[df1['airdate'] < '2019-05-01']['name']"
   ]
  },
  {
   "cell_type": "code",
   "execution_count": null,
   "id": "4135f2bf",
   "metadata": {},
   "outputs": [],
   "source": []
  },
  {
   "cell_type": "code",
   "execution_count": null,
   "id": "3d22d60e",
   "metadata": {},
   "outputs": [],
   "source": []
  },
  {
   "cell_type": "markdown",
   "id": "2d61e564",
   "metadata": {},
   "source": [
    "### - Get the episode name from each season with the highest and lowest rating."
   ]
  },
  {
   "cell_type": "code",
   "execution_count": 20,
   "id": "4fb45984",
   "metadata": {},
   "outputs": [
    {
     "data": {
      "text/plain": [
       "season\n",
       "1    8.7\n",
       "2    8.7\n",
       "3    8.0\n",
       "4    7.8\n",
       "Name: Average Rating, dtype: float64"
      ]
     },
     "execution_count": 20,
     "metadata": {},
     "output_type": "execute_result"
    }
   ],
   "source": [
    "df1.groupby('season')['Average Rating'].max()"
   ]
  },
  {
   "cell_type": "code",
   "execution_count": 21,
   "id": "30bcb7ac",
   "metadata": {},
   "outputs": [
    {
     "data": {
      "text/plain": [
       "season\n",
       "1    7.6\n",
       "2    7.6\n",
       "3    7.5\n",
       "4    7.1\n",
       "Name: Average Rating, dtype: float64"
      ]
     },
     "execution_count": 21,
     "metadata": {},
     "output_type": "execute_result"
    }
   ],
   "source": [
    "df1.groupby('season')['Average Rating'].min()"
   ]
  },
  {
   "cell_type": "code",
   "execution_count": 22,
   "id": "eeea8c5b",
   "metadata": {},
   "outputs": [
    {
     "data": {
      "text/plain": [
       "9    The Bicameral Mind\n",
       "Name: name, dtype: object"
      ]
     },
     "execution_count": 22,
     "metadata": {},
     "output_type": "execute_result"
    }
   ],
   "source": [
    "df1[(df1['season'] == 1) & (df1['Average Rating'] == 8.7)]['name']"
   ]
  },
  {
   "cell_type": "code",
   "execution_count": 23,
   "id": "03494a65",
   "metadata": {},
   "outputs": [
    {
     "data": {
      "text/plain": [
       "2    The Stray\n",
       "Name: name, dtype: object"
      ]
     },
     "execution_count": 23,
     "metadata": {},
     "output_type": "execute_result"
    }
   ],
   "source": [
    "df1[(df1['season'] == 1) & (df1['Average Rating'] == 7.6)]['name']"
   ]
  },
  {
   "cell_type": "code",
   "execution_count": 24,
   "id": "4bdbcda6",
   "metadata": {},
   "outputs": [
    {
     "data": {
      "text/plain": [
       "17    Kiksuya\n",
       "Name: name, dtype: object"
      ]
     },
     "execution_count": 24,
     "metadata": {},
     "output_type": "execute_result"
    }
   ],
   "source": [
    "df1[(df1['season'] == 2) & (df1['Average Rating'] == 8.7)]['name']"
   ]
  },
  {
   "cell_type": "code",
   "execution_count": 25,
   "id": "c507aa59",
   "metadata": {},
   "outputs": [
    {
     "data": {
      "text/plain": [
       "14    Akane No Mai\n",
       "Name: name, dtype: object"
      ]
     },
     "execution_count": 25,
     "metadata": {},
     "output_type": "execute_result"
    }
   ],
   "source": [
    "df1[(df1['season'] == 2) & (df1['Average Rating'] == 7.6)]['name']"
   ]
  },
  {
   "cell_type": "code",
   "execution_count": 26,
   "id": "32053b47",
   "metadata": {},
   "outputs": [
    {
     "data": {
      "text/plain": [
       "20            Parce Domine\n",
       "23    The Mother of Exiles\n",
       "Name: name, dtype: object"
      ]
     },
     "execution_count": 26,
     "metadata": {},
     "output_type": "execute_result"
    }
   ],
   "source": [
    "df1[(df1['season'] == 3) & (df1['Average Rating'] == 8.0)]['name']"
   ]
  },
  {
   "cell_type": "code",
   "execution_count": 27,
   "id": "753607d7",
   "metadata": {},
   "outputs": [
    {
     "data": {
      "text/plain": [
       "25    Decoherence\n",
       "26    Passed Pawn\n",
       "Name: name, dtype: object"
      ]
     },
     "execution_count": 27,
     "metadata": {},
     "output_type": "execute_result"
    }
   ],
   "source": [
    "df1[(df1['season'] == 3) & (df1['Average Rating'] == 7.5)]['name']"
   ]
  },
  {
   "cell_type": "code",
   "execution_count": 28,
   "id": "6b157622",
   "metadata": {},
   "outputs": [
    {
     "data": {
      "text/plain": [
       "32    Zhuangzi\n",
       "Name: name, dtype: object"
      ]
     },
     "execution_count": 28,
     "metadata": {},
     "output_type": "execute_result"
    }
   ],
   "source": [
    "df1[(df1['season'] == 4) & (df1['Average Rating'] == 7.8)]['name']"
   ]
  },
  {
   "cell_type": "code",
   "execution_count": 29,
   "id": "49bff109",
   "metadata": {},
   "outputs": [
    {
     "data": {
      "text/plain": [
       "28    The Auguries\n",
       "Name: name, dtype: object"
      ]
     },
     "execution_count": 29,
     "metadata": {},
     "output_type": "execute_result"
    }
   ],
   "source": [
    "df1[(df1['season'] == 4) & (df1['Average Rating'] == 7.1)]['name']"
   ]
  },
  {
   "cell_type": "code",
   "execution_count": null,
   "id": "2cc69b9e",
   "metadata": {},
   "outputs": [],
   "source": []
  },
  {
   "cell_type": "code",
   "execution_count": null,
   "id": "e207a2a2",
   "metadata": {},
   "outputs": [],
   "source": []
  },
  {
   "cell_type": "code",
   "execution_count": null,
   "id": "5b2962af",
   "metadata": {},
   "outputs": [],
   "source": []
  },
  {
   "cell_type": "code",
   "execution_count": 30,
   "id": "16e01b15",
   "metadata": {},
   "outputs": [],
   "source": [
    "max_series = df1.groupby('season')['Average Rating'].max()"
   ]
  },
  {
   "cell_type": "code",
   "execution_count": 31,
   "id": "676e905a",
   "metadata": {},
   "outputs": [],
   "source": [
    "min_series = df1.groupby('season')['Average Rating'].min()"
   ]
  },
  {
   "cell_type": "code",
   "execution_count": null,
   "id": "a741b882",
   "metadata": {},
   "outputs": [],
   "source": []
  },
  {
   "cell_type": "code",
   "execution_count": null,
   "id": "322323fb",
   "metadata": {},
   "outputs": [],
   "source": []
  },
  {
   "cell_type": "code",
   "execution_count": 32,
   "id": "8e60f5d0",
   "metadata": {},
   "outputs": [],
   "source": [
    "series_rating = df1.groupby('season')['Average Rating']"
   ]
  },
  {
   "cell_type": "code",
   "execution_count": 33,
   "id": "914b5c3b",
   "metadata": {},
   "outputs": [
    {
     "data": {
      "text/plain": [
       "8.7"
      ]
     },
     "execution_count": 33,
     "metadata": {},
     "output_type": "execute_result"
    }
   ],
   "source": [
    "max_series[1]"
   ]
  },
  {
   "cell_type": "code",
   "execution_count": 34,
   "id": "36f00918",
   "metadata": {},
   "outputs": [
    {
     "name": "stderr",
     "output_type": "stream",
     "text": [
      "/home/chinmay/anaconda3/lib/python3.8/site-packages/pandas/core/computation/expressions.py:69: VisibleDeprecationWarning: Creating an ndarray from ragged nested sequences (which is a list-or-tuple of lists-or-tuples-or ndarrays with different lengths or shapes) is deprecated. If you meant to do this, you must specify 'dtype=object' when creating the ndarray.\n",
      "  return op(a, b)\n",
      "/home/chinmay/anaconda3/lib/python3.8/site-packages/pandas/core/computation/expressions.py:69: VisibleDeprecationWarning: Creating an ndarray from ragged nested sequences (which is a list-or-tuple of lists-or-tuples-or ndarrays with different lengths or shapes) is deprecated. If you meant to do this, you must specify 'dtype=object' when creating the ndarray.\n",
      "  return op(a, b)\n",
      "/home/chinmay/anaconda3/lib/python3.8/site-packages/pandas/core/computation/expressions.py:69: VisibleDeprecationWarning: Creating an ndarray from ragged nested sequences (which is a list-or-tuple of lists-or-tuples-or ndarrays with different lengths or shapes) is deprecated. If you meant to do this, you must specify 'dtype=object' when creating the ndarray.\n",
      "  return op(a, b)\n",
      "/home/chinmay/anaconda3/lib/python3.8/site-packages/pandas/core/computation/expressions.py:69: VisibleDeprecationWarning: Creating an ndarray from ragged nested sequences (which is a list-or-tuple of lists-or-tuples-or ndarrays with different lengths or shapes) is deprecated. If you meant to do this, you must specify 'dtype=object' when creating the ndarray.\n",
      "  return op(a, b)\n"
     ]
    }
   ],
   "source": [
    "slist = [df1[(df1['season'] == s) & (df1['Average Rating'] == r)]['name'].iloc(0) for s,r in zip(df1.groupby('season')['season'], max_series) ]"
   ]
  },
  {
   "cell_type": "code",
   "execution_count": 35,
   "id": "d611ae70",
   "metadata": {},
   "outputs": [
    {
     "data": {
      "text/plain": [
       "[<pandas.core.indexing._iLocIndexer at 0x7f986a13e130>,\n",
       " <pandas.core.indexing._iLocIndexer at 0x7f986a14bea0>,\n",
       " <pandas.core.indexing._iLocIndexer at 0x7f986a14bc20>,\n",
       " <pandas.core.indexing._iLocIndexer at 0x7f986a1469a0>]"
      ]
     },
     "execution_count": 35,
     "metadata": {},
     "output_type": "execute_result"
    }
   ],
   "source": [
    "slist"
   ]
  },
  {
   "cell_type": "markdown",
   "id": "10f0d6b6",
   "metadata": {},
   "source": [
    "### - Get the summary for the most popular ( ratings ) episode in every season."
   ]
  },
  {
   "cell_type": "code",
   "execution_count": 36,
   "id": "de0b0d0b",
   "metadata": {},
   "outputs": [],
   "source": [
    "# For most popular episodes rating will be high. "
   ]
  },
  {
   "cell_type": "code",
   "execution_count": 37,
   "id": "4a8fdba4",
   "metadata": {},
   "outputs": [
    {
     "data": {
      "text/plain": [
       "9    Delores finds out the truth about William's fa...\n",
       "Name: summary, dtype: object"
      ]
     },
     "execution_count": 37,
     "metadata": {},
     "output_type": "execute_result"
    }
   ],
   "source": [
    "df1[(df1['season'] == 1) & (df1['Average Rating'] == 8.7)]['summary']"
   ]
  },
  {
   "cell_type": "code",
   "execution_count": 38,
   "id": "e75d02a0",
   "metadata": {},
   "outputs": [
    {
     "data": {
      "text/plain": [
       "\"Delores finds out the truth about William's fate. Meanwhile, Maeve organizes an escape plan, only to discover that someone else is pulling the strings. And Robert plays the final piece in his grand narrative.\""
      ]
     },
     "execution_count": 38,
     "metadata": {},
     "output_type": "execute_result"
    }
   ],
   "source": [
    "df1['summary'][9]"
   ]
  },
  {
   "cell_type": "code",
   "execution_count": null,
   "id": "0b33cbac",
   "metadata": {},
   "outputs": [],
   "source": []
  },
  {
   "cell_type": "code",
   "execution_count": null,
   "id": "c1b6955b",
   "metadata": {},
   "outputs": [],
   "source": []
  }
 ],
 "metadata": {
  "kernelspec": {
   "display_name": "Python 3",
   "language": "python",
   "name": "python3"
  },
  "language_info": {
   "codemirror_mode": {
    "name": "ipython",
    "version": 3
   },
   "file_extension": ".py",
   "mimetype": "text/x-python",
   "name": "python",
   "nbconvert_exporter": "python",
   "pygments_lexer": "ipython3",
   "version": "3.8.8"
  }
 },
 "nbformat": 4,
 "nbformat_minor": 5
}
